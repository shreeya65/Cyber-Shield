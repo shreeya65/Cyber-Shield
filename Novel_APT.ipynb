{
  "nbformat": 4,
  "nbformat_minor": 0,
  "metadata": {
    "colab": {
      "provenance": []
    },
    "kernelspec": {
      "name": "python3",
      "display_name": "Python 3"
    },
    "language_info": {
      "name": "python"
    }
  },
  "cells": [
    {
      "cell_type": "code",
      "source": [
        "#NOVEL ALGORITHM FOR APT DETECTION"
      ],
      "metadata": {
        "id": "HYiIFBoYjYM_"
      },
      "execution_count": null,
      "outputs": []
    },
    {
      "cell_type": "code",
      "execution_count": null,
      "metadata": {
        "colab": {
          "base_uri": "https://localhost:8080/"
        },
        "id": "rdFXYgTBbRCD",
        "outputId": "a9ce3696-204f-45f2-f182-ca5830b5212a",
        "collapsed": true
      },
      "outputs": [
        {
          "output_type": "stream",
          "name": "stdout",
          "text": [
            "Requirement already satisfied: lightgbm in /usr/local/lib/python3.11/dist-packages (4.5.0)\n",
            "Requirement already satisfied: scikit-learn in /usr/local/lib/python3.11/dist-packages (1.6.1)\n",
            "Requirement already satisfied: pandas in /usr/local/lib/python3.11/dist-packages (2.2.2)\n",
            "Requirement already satisfied: torch in /usr/local/lib/python3.11/dist-packages (2.6.0+cu124)\n",
            "Requirement already satisfied: numpy in /usr/local/lib/python3.11/dist-packages (2.0.2)\n",
            "Requirement already satisfied: scipy in /usr/local/lib/python3.11/dist-packages (from lightgbm) (1.15.3)\n",
            "Requirement already satisfied: joblib>=1.2.0 in /usr/local/lib/python3.11/dist-packages (from scikit-learn) (1.5.1)\n",
            "Requirement already satisfied: threadpoolctl>=3.1.0 in /usr/local/lib/python3.11/dist-packages (from scikit-learn) (3.6.0)\n",
            "Requirement already satisfied: python-dateutil>=2.8.2 in /usr/local/lib/python3.11/dist-packages (from pandas) (2.9.0.post0)\n",
            "Requirement already satisfied: pytz>=2020.1 in /usr/local/lib/python3.11/dist-packages (from pandas) (2025.2)\n",
            "Requirement already satisfied: tzdata>=2022.7 in /usr/local/lib/python3.11/dist-packages (from pandas) (2025.2)\n",
            "Requirement already satisfied: filelock in /usr/local/lib/python3.11/dist-packages (from torch) (3.18.0)\n",
            "Requirement already satisfied: typing-extensions>=4.10.0 in /usr/local/lib/python3.11/dist-packages (from torch) (4.13.2)\n",
            "Requirement already satisfied: networkx in /usr/local/lib/python3.11/dist-packages (from torch) (3.5)\n",
            "Requirement already satisfied: jinja2 in /usr/local/lib/python3.11/dist-packages (from torch) (3.1.6)\n",
            "Requirement already satisfied: fsspec in /usr/local/lib/python3.11/dist-packages (from torch) (2025.3.2)\n",
            "Collecting nvidia-cuda-nvrtc-cu12==12.4.127 (from torch)\n",
            "  Downloading nvidia_cuda_nvrtc_cu12-12.4.127-py3-none-manylinux2014_x86_64.whl.metadata (1.5 kB)\n",
            "Collecting nvidia-cuda-runtime-cu12==12.4.127 (from torch)\n",
            "  Downloading nvidia_cuda_runtime_cu12-12.4.127-py3-none-manylinux2014_x86_64.whl.metadata (1.5 kB)\n",
            "Collecting nvidia-cuda-cupti-cu12==12.4.127 (from torch)\n",
            "  Downloading nvidia_cuda_cupti_cu12-12.4.127-py3-none-manylinux2014_x86_64.whl.metadata (1.6 kB)\n",
            "Collecting nvidia-cudnn-cu12==9.1.0.70 (from torch)\n",
            "  Downloading nvidia_cudnn_cu12-9.1.0.70-py3-none-manylinux2014_x86_64.whl.metadata (1.6 kB)\n",
            "Collecting nvidia-cublas-cu12==12.4.5.8 (from torch)\n",
            "  Downloading nvidia_cublas_cu12-12.4.5.8-py3-none-manylinux2014_x86_64.whl.metadata (1.5 kB)\n",
            "Collecting nvidia-cufft-cu12==11.2.1.3 (from torch)\n",
            "  Downloading nvidia_cufft_cu12-11.2.1.3-py3-none-manylinux2014_x86_64.whl.metadata (1.5 kB)\n",
            "Collecting nvidia-curand-cu12==10.3.5.147 (from torch)\n",
            "  Downloading nvidia_curand_cu12-10.3.5.147-py3-none-manylinux2014_x86_64.whl.metadata (1.5 kB)\n",
            "Collecting nvidia-cusolver-cu12==11.6.1.9 (from torch)\n",
            "  Downloading nvidia_cusolver_cu12-11.6.1.9-py3-none-manylinux2014_x86_64.whl.metadata (1.6 kB)\n",
            "Collecting nvidia-cusparse-cu12==12.3.1.170 (from torch)\n",
            "  Downloading nvidia_cusparse_cu12-12.3.1.170-py3-none-manylinux2014_x86_64.whl.metadata (1.6 kB)\n",
            "Requirement already satisfied: nvidia-cusparselt-cu12==0.6.2 in /usr/local/lib/python3.11/dist-packages (from torch) (0.6.2)\n",
            "Requirement already satisfied: nvidia-nccl-cu12==2.21.5 in /usr/local/lib/python3.11/dist-packages (from torch) (2.21.5)\n",
            "Requirement already satisfied: nvidia-nvtx-cu12==12.4.127 in /usr/local/lib/python3.11/dist-packages (from torch) (12.4.127)\n",
            "Collecting nvidia-nvjitlink-cu12==12.4.127 (from torch)\n",
            "  Downloading nvidia_nvjitlink_cu12-12.4.127-py3-none-manylinux2014_x86_64.whl.metadata (1.5 kB)\n",
            "Requirement already satisfied: triton==3.2.0 in /usr/local/lib/python3.11/dist-packages (from torch) (3.2.0)\n",
            "Requirement already satisfied: sympy==1.13.1 in /usr/local/lib/python3.11/dist-packages (from torch) (1.13.1)\n",
            "Requirement already satisfied: mpmath<1.4,>=1.1.0 in /usr/local/lib/python3.11/dist-packages (from sympy==1.13.1->torch) (1.3.0)\n",
            "Requirement already satisfied: six>=1.5 in /usr/local/lib/python3.11/dist-packages (from python-dateutil>=2.8.2->pandas) (1.17.0)\n",
            "Requirement already satisfied: MarkupSafe>=2.0 in /usr/local/lib/python3.11/dist-packages (from jinja2->torch) (3.0.2)\n",
            "Downloading nvidia_cublas_cu12-12.4.5.8-py3-none-manylinux2014_x86_64.whl (363.4 MB)\n",
            "\u001b[2K   \u001b[90m━━━━━━━━━━━━━━━━━━━━━━━━━━━━━━━━━━━━━━━━\u001b[0m \u001b[32m363.4/363.4 MB\u001b[0m \u001b[31m2.3 MB/s\u001b[0m eta \u001b[36m0:00:00\u001b[0m\n",
            "\u001b[?25hDownloading nvidia_cuda_cupti_cu12-12.4.127-py3-none-manylinux2014_x86_64.whl (13.8 MB)\n",
            "\u001b[2K   \u001b[90m━━━━━━━━━━━━━━━━━━━━━━━━━━━━━━━━━━━━━━━━\u001b[0m \u001b[32m13.8/13.8 MB\u001b[0m \u001b[31m109.5 MB/s\u001b[0m eta \u001b[36m0:00:00\u001b[0m\n",
            "\u001b[?25hDownloading nvidia_cuda_nvrtc_cu12-12.4.127-py3-none-manylinux2014_x86_64.whl (24.6 MB)\n",
            "\u001b[2K   \u001b[90m━━━━━━━━━━━━━━━━━━━━━━━━━━━━━━━━━━━━━━━━\u001b[0m \u001b[32m24.6/24.6 MB\u001b[0m \u001b[31m84.0 MB/s\u001b[0m eta \u001b[36m0:00:00\u001b[0m\n",
            "\u001b[?25hDownloading nvidia_cuda_runtime_cu12-12.4.127-py3-none-manylinux2014_x86_64.whl (883 kB)\n",
            "\u001b[2K   \u001b[90m━━━━━━━━━━━━━━━━━━━━━━━━━━━━━━━━━━━━━━━━\u001b[0m \u001b[32m883.7/883.7 kB\u001b[0m \u001b[31m50.7 MB/s\u001b[0m eta \u001b[36m0:00:00\u001b[0m\n",
            "\u001b[?25hDownloading nvidia_cudnn_cu12-9.1.0.70-py3-none-manylinux2014_x86_64.whl (664.8 MB)\n",
            "\u001b[2K   \u001b[90m━━━━━━━━━━━━━━━━━━━━━━━━━━━━━━━━━━━━━━━━\u001b[0m \u001b[32m664.8/664.8 MB\u001b[0m \u001b[31m2.2 MB/s\u001b[0m eta \u001b[36m0:00:00\u001b[0m\n",
            "\u001b[?25hDownloading nvidia_cufft_cu12-11.2.1.3-py3-none-manylinux2014_x86_64.whl (211.5 MB)\n",
            "\u001b[2K   \u001b[90m━━━━━━━━━━━━━━━━━━━━━━━━━━━━━━━━━━━━━━━━\u001b[0m \u001b[32m211.5/211.5 MB\u001b[0m \u001b[31m5.8 MB/s\u001b[0m eta \u001b[36m0:00:00\u001b[0m\n",
            "\u001b[?25hDownloading nvidia_curand_cu12-10.3.5.147-py3-none-manylinux2014_x86_64.whl (56.3 MB)\n",
            "\u001b[2K   \u001b[90m━━━━━━━━━━━━━━━━━━━━━━━━━━━━━━━━━━━━━━━━\u001b[0m \u001b[32m56.3/56.3 MB\u001b[0m \u001b[31m12.8 MB/s\u001b[0m eta \u001b[36m0:00:00\u001b[0m\n",
            "\u001b[?25hDownloading nvidia_cusolver_cu12-11.6.1.9-py3-none-manylinux2014_x86_64.whl (127.9 MB)\n",
            "\u001b[2K   \u001b[90m━━━━━━━━━━━━━━━━━━━━━━━━━━━━━━━━━━━━━━━━\u001b[0m \u001b[32m127.9/127.9 MB\u001b[0m \u001b[31m7.6 MB/s\u001b[0m eta \u001b[36m0:00:00\u001b[0m\n",
            "\u001b[?25hDownloading nvidia_cusparse_cu12-12.3.1.170-py3-none-manylinux2014_x86_64.whl (207.5 MB)\n",
            "\u001b[2K   \u001b[90m━━━━━━━━━━━━━━━━━━━━━━━━━━━━━━━━━━━━━━━━\u001b[0m \u001b[32m207.5/207.5 MB\u001b[0m \u001b[31m5.7 MB/s\u001b[0m eta \u001b[36m0:00:00\u001b[0m\n",
            "\u001b[?25hDownloading nvidia_nvjitlink_cu12-12.4.127-py3-none-manylinux2014_x86_64.whl (21.1 MB)\n",
            "\u001b[2K   \u001b[90m━━━━━━━━━━━━━━━━━━━━━━━━━━━━━━━━━━━━━━━━\u001b[0m \u001b[32m21.1/21.1 MB\u001b[0m \u001b[31m66.7 MB/s\u001b[0m eta \u001b[36m0:00:00\u001b[0m\n",
            "\u001b[?25hInstalling collected packages: nvidia-nvjitlink-cu12, nvidia-curand-cu12, nvidia-cufft-cu12, nvidia-cuda-runtime-cu12, nvidia-cuda-nvrtc-cu12, nvidia-cuda-cupti-cu12, nvidia-cublas-cu12, nvidia-cusparse-cu12, nvidia-cudnn-cu12, nvidia-cusolver-cu12\n",
            "  Attempting uninstall: nvidia-nvjitlink-cu12\n",
            "    Found existing installation: nvidia-nvjitlink-cu12 12.5.82\n",
            "    Uninstalling nvidia-nvjitlink-cu12-12.5.82:\n",
            "      Successfully uninstalled nvidia-nvjitlink-cu12-12.5.82\n",
            "  Attempting uninstall: nvidia-curand-cu12\n",
            "    Found existing installation: nvidia-curand-cu12 10.3.6.82\n",
            "    Uninstalling nvidia-curand-cu12-10.3.6.82:\n",
            "      Successfully uninstalled nvidia-curand-cu12-10.3.6.82\n",
            "  Attempting uninstall: nvidia-cufft-cu12\n",
            "    Found existing installation: nvidia-cufft-cu12 11.2.3.61\n",
            "    Uninstalling nvidia-cufft-cu12-11.2.3.61:\n",
            "      Successfully uninstalled nvidia-cufft-cu12-11.2.3.61\n",
            "  Attempting uninstall: nvidia-cuda-runtime-cu12\n",
            "    Found existing installation: nvidia-cuda-runtime-cu12 12.5.82\n",
            "    Uninstalling nvidia-cuda-runtime-cu12-12.5.82:\n",
            "      Successfully uninstalled nvidia-cuda-runtime-cu12-12.5.82\n",
            "  Attempting uninstall: nvidia-cuda-nvrtc-cu12\n",
            "    Found existing installation: nvidia-cuda-nvrtc-cu12 12.5.82\n",
            "    Uninstalling nvidia-cuda-nvrtc-cu12-12.5.82:\n",
            "      Successfully uninstalled nvidia-cuda-nvrtc-cu12-12.5.82\n",
            "  Attempting uninstall: nvidia-cuda-cupti-cu12\n",
            "    Found existing installation: nvidia-cuda-cupti-cu12 12.5.82\n",
            "    Uninstalling nvidia-cuda-cupti-cu12-12.5.82:\n",
            "      Successfully uninstalled nvidia-cuda-cupti-cu12-12.5.82\n",
            "  Attempting uninstall: nvidia-cublas-cu12\n",
            "    Found existing installation: nvidia-cublas-cu12 12.5.3.2\n",
            "    Uninstalling nvidia-cublas-cu12-12.5.3.2:\n",
            "      Successfully uninstalled nvidia-cublas-cu12-12.5.3.2\n",
            "  Attempting uninstall: nvidia-cusparse-cu12\n",
            "    Found existing installation: nvidia-cusparse-cu12 12.5.1.3\n",
            "    Uninstalling nvidia-cusparse-cu12-12.5.1.3:\n",
            "      Successfully uninstalled nvidia-cusparse-cu12-12.5.1.3\n",
            "  Attempting uninstall: nvidia-cudnn-cu12\n",
            "    Found existing installation: nvidia-cudnn-cu12 9.3.0.75\n",
            "    Uninstalling nvidia-cudnn-cu12-9.3.0.75:\n",
            "      Successfully uninstalled nvidia-cudnn-cu12-9.3.0.75\n",
            "  Attempting uninstall: nvidia-cusolver-cu12\n",
            "    Found existing installation: nvidia-cusolver-cu12 11.6.3.83\n",
            "    Uninstalling nvidia-cusolver-cu12-11.6.3.83:\n",
            "      Successfully uninstalled nvidia-cusolver-cu12-11.6.3.83\n",
            "Successfully installed nvidia-cublas-cu12-12.4.5.8 nvidia-cuda-cupti-cu12-12.4.127 nvidia-cuda-nvrtc-cu12-12.4.127 nvidia-cuda-runtime-cu12-12.4.127 nvidia-cudnn-cu12-9.1.0.70 nvidia-cufft-cu12-11.2.1.3 nvidia-curand-cu12-10.3.5.147 nvidia-cusolver-cu12-11.6.1.9 nvidia-cusparse-cu12-12.3.1.170 nvidia-nvjitlink-cu12-12.4.127\n"
          ]
        }
      ],
      "source": [
        "!pip install lightgbm scikit-learn pandas torch numpy"
      ]
    },
    {
      "cell_type": "code",
      "source": [
        "# Install dependencies (uncomment if running in Colab)\n",
        "# !pip install lightgbm scikit-learn pandas torch numpy\n",
        "\n",
        "import pandas as pd\n",
        "import numpy as np\n",
        "from sklearn.model_selection import train_test_split\n",
        "from sklearn.metrics import classification_report\n",
        "from lightgbm import LGBMClassifier\n",
        "import torch\n",
        "import torch.nn as nn\n",
        "import torch.nn.functional as F\n",
        "from torch.utils.data import DataLoader, TensorDataset\n",
        "\n",
        "# === STEP 1: Load Dataset ===\n",
        "df = pd.read_csv(\"/content/new_data.csv\")  # Ensure this file is present in your directory"
      ],
      "metadata": {
        "id": "VaHl1eqdeUFA"
      },
      "execution_count": null,
      "outputs": []
    },
    {
      "cell_type": "code",
      "source": [],
      "metadata": {
        "id": "WGFViTCPlT_3"
      },
      "execution_count": null,
      "outputs": []
    },
    {
      "cell_type": "code",
      "source": [
        "\n",
        "# === STEP 2: Feature Split ===\n",
        "temporal_cols = [\n",
        "    'Flow IAT Mean', 'Flow IAT Std', 'Flow IAT Max', 'Flow IAT Min',\n",
        "    'Fwd IAT Total', 'Fwd IAT Mean', 'Fwd IAT Std', 'Fwd IAT Max', 'Fwd IAT Min',\n",
        "    'Bwd IAT Total', 'Bwd IAT Mean', 'Bwd IAT Std', 'Bwd IAT Max', 'Bwd IAT Min'\n",
        "]\n",
        "\n",
        "stat_graph_cols = [col for col in df.columns if col not in temporal_cols + ['Label']]\n",
        "X_temporal = df[temporal_cols].values.reshape(-1, len(temporal_cols), 1)\n",
        "X_statgraph = df[stat_graph_cols].values\n",
        "y = df['Label'].values\n",
        "\n",
        "X_train_t, X_test_t, X_train_s, X_test_s, y_train, y_test = train_test_split(\n",
        "    X_temporal, X_statgraph, y, test_size=0.2, random_state=42\n",
        ")"
      ],
      "metadata": {
        "id": "UMGUZg3_g5Ky"
      },
      "execution_count": null,
      "outputs": []
    },
    {
      "cell_type": "code",
      "source": [
        "# === STEP 3: Train LightGBM ===\n",
        "lgb = LGBMClassifier()\n",
        "lgb.fit(X_train_s, y_train)\n",
        "lgb_train_out = lgb.predict_proba(X_train_s)\n",
        "lgb_test_out = lgb.predict_proba(X_test_s)"
      ],
      "metadata": {
        "colab": {
          "base_uri": "https://localhost:8080/"
        },
        "id": "tstw5CdhhIi3",
        "outputId": "2c7010e2-08e9-431d-dcfd-691ed490839e"
      },
      "execution_count": null,
      "outputs": [
        {
          "output_type": "stream",
          "name": "stderr",
          "text": [
            "/usr/local/lib/python3.11/dist-packages/sklearn/utils/deprecation.py:151: FutureWarning: 'force_all_finite' was renamed to 'ensure_all_finite' in 1.6 and will be removed in 1.8.\n",
            "  warnings.warn(\n"
          ]
        },
        {
          "output_type": "stream",
          "name": "stdout",
          "text": [
            "[LightGBM] [Info] Auto-choosing col-wise multi-threading, the overhead of testing was 0.007384 seconds.\n",
            "You can set `force_col_wise=true` to remove the overhead.\n",
            "[LightGBM] [Info] Total Bins 9174\n",
            "[LightGBM] [Info] Number of data points in the train set: 5750, number of used features: 59\n",
            "[LightGBM] [Info] Start training from score -2.519228\n",
            "[LightGBM] [Info] Start training from score -3.844771\n",
            "[LightGBM] [Info] Start training from score -2.117369\n",
            "[LightGBM] [Info] Start training from score -1.290510\n",
            "[LightGBM] [Info] Start training from score -1.054554\n",
            "[LightGBM] [Info] Start training from score -1.869110\n",
            "[LightGBM] [Warning] No further splits with positive gain, best gain: -inf\n",
            "[LightGBM] [Warning] No further splits with positive gain, best gain: -inf\n",
            "[LightGBM] [Warning] No further splits with positive gain, best gain: -inf\n",
            "[LightGBM] [Warning] No further splits with positive gain, best gain: -inf\n",
            "[LightGBM] [Warning] No further splits with positive gain, best gain: -inf\n",
            "[LightGBM] [Warning] No further splits with positive gain, best gain: -inf\n",
            "[LightGBM] [Warning] No further splits with positive gain, best gain: -inf\n",
            "[LightGBM] [Warning] No further splits with positive gain, best gain: -inf\n",
            "[LightGBM] [Warning] No further splits with positive gain, best gain: -inf\n",
            "[LightGBM] [Warning] No further splits with positive gain, best gain: -inf\n",
            "[LightGBM] [Warning] No further splits with positive gain, best gain: -inf\n",
            "[LightGBM] [Warning] No further splits with positive gain, best gain: -inf\n",
            "[LightGBM] [Warning] No further splits with positive gain, best gain: -inf\n",
            "[LightGBM] [Warning] No further splits with positive gain, best gain: -inf\n",
            "[LightGBM] [Warning] No further splits with positive gain, best gain: -inf\n",
            "[LightGBM] [Warning] No further splits with positive gain, best gain: -inf\n",
            "[LightGBM] [Warning] No further splits with positive gain, best gain: -inf\n",
            "[LightGBM] [Warning] No further splits with positive gain, best gain: -inf\n",
            "[LightGBM] [Warning] No further splits with positive gain, best gain: -inf\n",
            "[LightGBM] [Warning] No further splits with positive gain, best gain: -inf\n",
            "[LightGBM] [Warning] No further splits with positive gain, best gain: -inf\n",
            "[LightGBM] [Warning] No further splits with positive gain, best gain: -inf\n",
            "[LightGBM] [Warning] No further splits with positive gain, best gain: -inf\n",
            "[LightGBM] [Warning] No further splits with positive gain, best gain: -inf\n",
            "[LightGBM] [Warning] No further splits with positive gain, best gain: -inf\n",
            "[LightGBM] [Warning] No further splits with positive gain, best gain: -inf\n",
            "[LightGBM] [Warning] No further splits with positive gain, best gain: -inf\n",
            "[LightGBM] [Warning] No further splits with positive gain, best gain: -inf\n",
            "[LightGBM] [Warning] No further splits with positive gain, best gain: -inf\n",
            "[LightGBM] [Warning] No further splits with positive gain, best gain: -inf\n",
            "[LightGBM] [Warning] No further splits with positive gain, best gain: -inf\n",
            "[LightGBM] [Warning] No further splits with positive gain, best gain: -inf\n",
            "[LightGBM] [Warning] No further splits with positive gain, best gain: -inf\n",
            "[LightGBM] [Warning] No further splits with positive gain, best gain: -inf\n"
          ]
        },
        {
          "output_type": "stream",
          "name": "stderr",
          "text": [
            "/usr/local/lib/python3.11/dist-packages/sklearn/utils/deprecation.py:151: FutureWarning: 'force_all_finite' was renamed to 'ensure_all_finite' in 1.6 and will be removed in 1.8.\n",
            "  warnings.warn(\n",
            "/usr/local/lib/python3.11/dist-packages/sklearn/utils/deprecation.py:151: FutureWarning: 'force_all_finite' was renamed to 'ensure_all_finite' in 1.6 and will be removed in 1.8.\n",
            "  warnings.warn(\n"
          ]
        }
      ]
    },
    {
      "cell_type": "code",
      "source": [
        "# === STEP 4: Define Models ===\n",
        "import torch.nn as nn\n",
        "import torch.nn.functional as F\n",
        "\n",
        "class BiGRUModel(nn.Module):\n",
        "    def __init__(self, input_size=1, hidden_size=64, dropout_prob=0.3):\n",
        "        super(BiGRUModel, self).__init__()\n",
        "        self.gru = nn.GRU(input_size, hidden_size, batch_first=True, bidirectional=True)\n",
        "        self.dropout = nn.Dropout(dropout_prob)\n",
        "        self.fc = nn.Linear(hidden_size * 2, 64)\n",
        "\n",
        "    def forward(self, x):\n",
        "        _, h = self.gru(x)\n",
        "        h = h.permute(1, 0, 2).reshape(x.size(0), -1)\n",
        "        h = self.dropout(h)\n",
        "        return self.fc(h)\n",
        "\n",
        "class CNNModel(nn.Module):\n",
        "    def __init__(self, dropout_prob=0.3):\n",
        "        super(CNNModel, self).__init__()\n",
        "        self.conv1 = nn.Conv1d(1, 16, 3, padding=1)\n",
        "        self.conv2 = nn.Conv1d(16, 32, 3, padding=1)\n",
        "        self.pool = nn.AdaptiveAvgPool1d(1)\n",
        "        self.dropout = nn.Dropout(dropout_prob)\n",
        "        self.fc = nn.Linear(32, 32)\n",
        "\n",
        "    def forward(self, x):\n",
        "        x = F.relu(self.conv1(x))\n",
        "        x = self.pool(F.relu(self.conv2(x)))\n",
        "        x = x.view(x.size(0), -1)\n",
        "        x = self.dropout(x)\n",
        "        return self.fc(x)\n",
        "\n",
        "num_classes = len(np.unique(y_train))  # Assuming y_train is a NumPy array\n",
        "\n",
        "class FusionModel(nn.Module):\n",
        "    def __init__(self):\n",
        "        super(FusionModel, self).__init__()\n",
        "        self.fc1 = nn.Linear(102, 64)\n",
        "        self.relu = nn.ReLU()\n",
        "        self.fc2 = nn.Linear(64, num_classes)\n",
        "\n",
        "    def forward(self, gru_out, cnn_out, lgb_out):\n",
        "        x = torch.cat([gru_out, cnn_out, lgb_out], dim=1)\n",
        "        x = self.relu(self.fc1(x))\n",
        "        x = self.fc2(x)\n",
        "        return x"
      ],
      "metadata": {
        "id": "BwLT5ZRUhMT6"
      },
      "execution_count": null,
      "outputs": []
    },
    {
      "cell_type": "code",
      "source": [
        "import time\n",
        "from sklearn.metrics import classification_report, accuracy_score, precision_score, recall_score, f1_score, log_loss\n",
        "\n",
        "# === STEP 5: Train Hybrid Deep Ensemble with Early Stopping and Metrics ===\n",
        "\n",
        "device = torch.device(\"cuda\" if torch.cuda.is_available() else \"cpu\")\n",
        "gru_model = BiGRUModel().to(device)\n",
        "cnn_model = CNNModel().to(device)\n",
        "fusion_model = FusionModel().to(device)\n",
        "\n",
        "train_t = torch.tensor(X_train_t, dtype=torch.float32).to(device)\n",
        "train_cnn = train_t.view(train_t.size(0), 1, -1)\n",
        "train_lgb = torch.tensor(lgb_train_out, dtype=torch.float32).to(device)\n",
        "train_labels = torch.tensor(y_train, dtype=torch.long).to(device)\n",
        "\n",
        "dataset = TensorDataset(train_t, train_cnn, train_lgb, train_labels)\n",
        "loader = DataLoader(dataset, batch_size=64, shuffle=True)\n",
        "\n",
        "criterion = nn.CrossEntropyLoss()  # add class weights here if needed\n",
        "optimizer = torch.optim.Adam(list(gru_model.parameters()) +\n",
        "                             list(cnn_model.parameters()) +\n",
        "                             list(fusion_model.parameters()), lr=0.001)\n",
        "\n",
        "patience = 5\n",
        "best_val_loss = float('inf')\n",
        "counter = 0\n",
        "\n",
        "start_train_time = time.time()\n",
        "for epoch in range(50):  # max epochs\n",
        "    gru_model.train()\n",
        "    cnn_model.train()\n",
        "    fusion_model.train()\n",
        "\n",
        "    total_loss = 0\n",
        "    for x_gru, x_cnn, x_lgb, y in loader:\n",
        "        optimizer.zero_grad()\n",
        "        out_gru = gru_model(x_gru)\n",
        "        out_cnn = cnn_model(x_cnn)\n",
        "        out = fusion_model(out_gru, out_cnn, x_lgb)\n",
        "        loss = criterion(out, y)\n",
        "        loss.backward()\n",
        "        optimizer.step()\n",
        "        total_loss += loss.item()\n",
        "\n",
        "    avg_train_loss = total_loss / len(loader)\n",
        "\n",
        "    gru_model.eval()\n",
        "    cnn_model.eval()\n",
        "    fusion_model.eval()\n",
        "\n",
        "    with torch.no_grad():\n",
        "        val_t = torch.tensor(X_test_t, dtype=torch.float32).to(device)\n",
        "        val_cnn = val_t.view(val_t.size(0), 1, -1)\n",
        "        val_lgb = torch.tensor(lgb_test_out, dtype=torch.float32).to(device)\n",
        "        val_labels = torch.tensor(y_test, dtype=torch.long).to(device)\n",
        "\n",
        "        out_gru = gru_model(val_t)\n",
        "        out_cnn = cnn_model(val_cnn)\n",
        "        val_out = fusion_model(out_gru, out_cnn, val_lgb)\n",
        "        val_loss = criterion(val_out, val_labels).item()\n",
        "\n",
        "    print(f\"Epoch {epoch+1}, Train Loss: {avg_train_loss:.4f}, Val Loss: {val_loss:.4f}\")\n",
        "\n",
        "    if val_loss < best_val_loss:\n",
        "        best_val_loss = val_loss\n",
        "        counter = 0\n",
        "        torch.save({\n",
        "            'gru': gru_model.state_dict(),\n",
        "            'cnn': cnn_model.state_dict(),\n",
        "            'fusion': fusion_model.state_dict()\n",
        "        }, 'best_model.pth')\n",
        "    else:\n",
        "        counter += 1\n",
        "        if counter >= patience:\n",
        "            print(\"Early stopping triggered.\")\n",
        "            break\n",
        "end_train_time = time.time()\n",
        "train_duration = end_train_time - start_train_time\n",
        "\n",
        "# Load best model\n",
        "checkpoint = torch.load('best_model.pth')\n",
        "gru_model.load_state_dict(checkpoint['gru'])\n",
        "cnn_model.load_state_dict(checkpoint['cnn'])\n",
        "fusion_model.load_state_dict(checkpoint['fusion'])\n",
        "\n",
        "# === STEP 6: Evaluation with detailed metrics ===\n",
        "gru_model.eval()\n",
        "cnn_model.eval()\n",
        "fusion_model.eval()\n",
        "\n",
        "start_infer_time = time.time()\n",
        "with torch.no_grad():\n",
        "    test_t = torch.tensor(X_test_t, dtype=torch.float32).to(device)\n",
        "    test_cnn = test_t.view(test_t.size(0), 1, -1)\n",
        "    test_lgb = torch.tensor(lgb_test_out, dtype=torch.float32).to(device)\n",
        "    test_labels = y_test  # numpy array\n",
        "\n",
        "    out_gru = gru_model(test_t)\n",
        "    out_cnn = cnn_model(test_cnn)\n",
        "    final_out = fusion_model(out_gru, out_cnn, test_lgb)\n",
        "    probs = torch.softmax(final_out, dim=1).cpu().numpy()\n",
        "    preds = np.argmax(probs, axis=1)\n",
        "end_infer_time = time.time()\n",
        "inference_duration = end_infer_time - start_infer_time\n",
        "\n",
        "# Metrics\n",
        "acc = accuracy_score(test_labels, preds)\n",
        "prec = precision_score(test_labels, preds, average='weighted', zero_division=0)\n",
        "rec = recall_score(test_labels, preds, average='weighted', zero_division=0)\n",
        "f1 = f1_score(test_labels, preds, average='weighted', zero_division=0)\n",
        "ll = log_loss(test_labels, probs)\n",
        "\n",
        "print(\"\\n=== Final Evaluation Metrics ===\")\n",
        "print(f\"Accuracy: {acc:.4f}\")\n",
        "print(f\"Precision: {prec:.4f}\")\n",
        "print(f\"Recall: {rec:.4f}\")\n",
        "print(f\"F1-score: {f1:.4f}\")\n",
        "print(f\"Log Loss: {ll:.4f}\")\n",
        "print(f\"Training Time: {train_duration:.2f} seconds\")\n",
        "print(f\"Inference Time: {inference_duration:.2f} seconds\")\n",
        "\n",
        "print(\"\\n=== Classification Report ===\")\n",
        "print(classification_report(test_labels, preds, zero_division=0))"
      ],
      "metadata": {
        "colab": {
          "base_uri": "https://localhost:8080/"
        },
        "id": "a7W2HiR3nzUi",
        "outputId": "3f51667e-a836-4cf1-8869-1ae129c6f70e"
      },
      "execution_count": null,
      "outputs": [
        {
          "output_type": "stream",
          "name": "stdout",
          "text": [
            "Epoch 1, Train Loss: 1.4234, Val Loss: 1.1739\n",
            "Epoch 2, Train Loss: 0.8694, Val Loss: 0.6062\n",
            "Epoch 3, Train Loss: 0.3607, Val Loss: 0.2498\n",
            "Epoch 4, Train Loss: 0.1344, Val Loss: 0.1479\n",
            "Epoch 5, Train Loss: 0.0591, Val Loss: 0.1188\n",
            "Epoch 6, Train Loss: 0.0318, Val Loss: 0.1095\n",
            "Epoch 7, Train Loss: 0.0196, Val Loss: 0.1074\n",
            "Epoch 8, Train Loss: 0.0133, Val Loss: 0.1074\n",
            "Epoch 9, Train Loss: 0.0097, Val Loss: 0.1091\n",
            "Epoch 10, Train Loss: 0.0074, Val Loss: 0.1106\n",
            "Epoch 11, Train Loss: 0.0058, Val Loss: 0.1124\n",
            "Epoch 12, Train Loss: 0.0047, Val Loss: 0.1142\n",
            "Epoch 13, Train Loss: 0.0038, Val Loss: 0.1162\n",
            "Early stopping triggered.\n",
            "\n",
            "=== Final Evaluation Metrics ===\n",
            "Accuracy: 0.9798\n",
            "Precision: 0.9799\n",
            "Recall: 0.9798\n",
            "F1-score: 0.9798\n",
            "Log Loss: 0.1074\n",
            "Training Time: 34.14 seconds\n",
            "Inference Time: 0.08 seconds\n",
            "\n",
            "=== Classification Report ===\n",
            "              precision    recall  f1-score   support\n",
            "\n",
            "           0       0.96      0.96      0.96       138\n",
            "           1       1.00      0.96      0.98        27\n",
            "           2       0.97      0.95      0.96       179\n",
            "           3       1.00      1.00      1.00       418\n",
            "           4       0.98      0.99      0.98       479\n",
            "           5       0.95      0.96      0.96       197\n",
            "\n",
            "    accuracy                           0.98      1438\n",
            "   macro avg       0.98      0.97      0.97      1438\n",
            "weighted avg       0.98      0.98      0.98      1438\n",
            "\n"
          ]
        }
      ]
    },
    {
      "cell_type": "code",
      "source": [
        "import joblib\n",
        "joblib.dump(lgb, 'lightgbm_model_updated.pkl')"
      ],
      "metadata": {
        "colab": {
          "base_uri": "https://localhost:8080/"
        },
        "id": "N4oiIqn2ALET",
        "outputId": "3e43a3ce-fc64-4a57-f104-91efb416ff62"
      },
      "execution_count": null,
      "outputs": [
        {
          "output_type": "execute_result",
          "data": {
            "text/plain": [
              "['lightgbm_model_updated.pkl']"
            ]
          },
          "metadata": {},
          "execution_count": 7
        }
      ]
    },
    {
      "cell_type": "code",
      "source": [
        "import json\n",
        "\n",
        "sample_input = {\n",
        "    \"stat_graph_features\": X_statgraph[0].tolist(),  # shape: [N_features]\n",
        "    \"temporal_features\": X_temporal[0].reshape(14).tolist()  # shape: [10]\n",
        "}\n",
        "\n",
        "with open(\"sample_input_updated.json\", \"w\") as f:\n",
        "    json.dump(sample_input, f, indent=2)"
      ],
      "metadata": {
        "id": "klGgjh62AUOe"
      },
      "execution_count": null,
      "outputs": []
    },
    {
      "cell_type": "code",
      "source": [
        "import torch\n",
        "\n",
        "checkpoint = torch.load(\"best_model.pth\", map_location=\"cpu\")\n",
        "print(\"Keys in checkpoint:\", checkpoint.keys())"
      ],
      "metadata": {
        "id": "HPRpYtE4Atgg",
        "colab": {
          "base_uri": "https://localhost:8080/"
        },
        "outputId": "c2f08db0-7789-41df-a9fa-a12087cc0744"
      },
      "execution_count": null,
      "outputs": [
        {
          "output_type": "stream",
          "name": "stdout",
          "text": [
            "Keys in checkpoint: dict_keys(['gru', 'cnn', 'fusion'])\n"
          ]
        }
      ]
    },
    {
      "cell_type": "code",
      "source": [],
      "metadata": {
        "id": "sbKpc4HF81-F"
      },
      "execution_count": null,
      "outputs": []
    }
  ]
}